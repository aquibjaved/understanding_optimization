{
 "cells": [
  {
   "cell_type": "markdown",
   "metadata": {},
   "source": [
    "This notebook intends to have basics of optimization specifically in the Machine learning.\n",
    "So, the question is what is an optimization or optimization problem?\n",
    "The objective/goal of the optimization problem is to **optimize (Maximize or Minimize) some function**.\n",
    "\n",
    "*Example*: with someobjective function *f* maximize the revenue of by either advertising or producing some commodity, similarly for minimizing reduce the cost in advertising or production.\n",
    "\n",
    "On a very high level optimization can be diveded into two parts:\n",
    "* **Unconstrained optimization**: Optimizing some function that depends on real values with no restriction on their values.\n",
    " \n",
    "* **Constrained optimization**"
   ]
  },
  {
   "cell_type": "code",
   "execution_count": null,
   "metadata": {},
   "outputs": [],
   "source": []
  }
 ],
 "metadata": {
  "kernelspec": {
   "display_name": "Python 3",
   "language": "python",
   "name": "python3"
  },
  "language_info": {
   "codemirror_mode": {
    "name": "ipython",
    "version": 3
   },
   "file_extension": ".py",
   "mimetype": "text/x-python",
   "name": "python",
   "nbconvert_exporter": "python",
   "pygments_lexer": "ipython3",
   "version": "3.6.9"
  }
 },
 "nbformat": 4,
 "nbformat_minor": 2
}
